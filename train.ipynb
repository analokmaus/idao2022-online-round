{
 "cells": [
  {
   "cell_type": "code",
   "execution_count": 2,
   "metadata": {},
   "outputs": [],
   "source": [
    "%load_ext autoreload\n",
    "%autoreload 2"
   ]
  },
  {
   "cell_type": "code",
   "execution_count": 3,
   "metadata": {},
   "outputs": [],
   "source": [
    "from pathlib import Path\n",
    "import pandas as pd\n",
    "import numpy as np\n",
    "import tensorflow as tf\n",
    "import logging\n",
    "tf.get_logger().setLevel(logging.ERROR)\n",
    "import argparse\n",
    "import os\n",
    "from sklearn.model_selection import KFold\n",
    "from monty.serialization import dumpfn, loadfn\n",
    "from tensorflow.keras.callbacks import ReduceLROnPlateau\n",
    "from pymatgen.core import Structure\n",
    "from megnet.data.crystal import CrystalGraph, CrystalGraphWithBondTypes\n",
    "from megnet.data.graph import  GaussianDistance\n",
    "from megnet_models import MEGNetModel"
   ]
  },
  {
   "cell_type": "code",
   "execution_count": 4,
   "metadata": {},
   "outputs": [],
   "source": [
    "def energy_within_threshold(prediction, target):\n",
    "    # compute absolute error on energy per system.\n",
    "    # then count the no. of systems where max energy error is < 0.02.\n",
    "    e_thresh = 0.02\n",
    "    error_energy = tf.math.abs(target - prediction)\n",
    "\n",
    "    success = tf.math.count_nonzero(error_energy < e_thresh)\n",
    "    total = tf.size(target)\n",
    "    return success / tf.cast(total, tf.int64)"
   ]
  },
  {
   "cell_type": "code",
   "execution_count": 5,
   "metadata": {},
   "outputs": [],
   "source": [
    "os.environ[\"CUDA_VISIBLE_DEVICES\"] = \"0\""
   ]
  },
  {
   "cell_type": "code",
   "execution_count": 6,
   "metadata": {},
   "outputs": [],
   "source": [
    "NAME = 'test'\n",
    "SEED = 2022\n",
    "CV = 5\n",
    "MAX_EPOCHS = 5\n",
    "BATCH_SIZE = 128\n",
    "LR = 5e-4 \n",
    "\n",
    "NFEAT_BOND = 5\n",
    "CUTOFF = 4\n",
    "GAUSS_CENTER = np.linspace(0, CUTOFF + 1, 100)\n",
    "GAUSS_WIDTH = 0.5"
   ]
  },
  {
   "cell_type": "code",
   "execution_count": 7,
   "metadata": {},
   "outputs": [],
   "source": [
    "INPUT_DIR = Path('data')\n",
    "OUTPUT_DIR = Path('results') / NAME\n",
    "OUTPUT_DIR.mkdir(exist_ok=True, parents=True)\n",
    "\n",
    "# %%\n",
    "cache = pd.read_pickle('data/data_cache_cutoff4.pickle')\n",
    "train = pd.read_csv('data/dichalcogenides_public/targets.csv')\n",
    "\n",
    "# %%\n",
    "splitter = KFold(n_splits=CV, shuffle=True, random_state=SEED)\n",
    "fold_iter = list(splitter.split(X=train, y=train['band_gap']))"
   ]
  },
  {
   "cell_type": "code",
   "execution_count": 12,
   "metadata": {},
   "outputs": [
    {
     "name": "stdout",
     "output_type": "stream",
     "text": [
      "Epoch 1/5\n"
     ]
    },
    {
     "name": "stderr",
     "output_type": "stream",
     "text": [
      "INFO:megnet_models.callbacks:val energy_within_threshold: 0.04714 mae: 0.17502\n",
      "INFO:megnet_models.callbacks:best energy_within_threshold: -inf -> 0.04714\n"
     ]
    },
    {
     "name": "stdout",
     "output_type": "stream",
     "text": [
      "19/19 - 38s - loss: 0.4376 - energy_within_threshold: 0.0341 - 38s/epoch - 2s/step\n",
      "Epoch 2/5\n"
     ]
    },
    {
     "name": "stderr",
     "output_type": "stream",
     "text": [
      "INFO:megnet_models.callbacks:val energy_within_threshold: 0.43266 mae: 0.10962\n",
      "INFO:megnet_models.callbacks:best energy_within_threshold: 0.04714 -> 0.43266\n"
     ]
    },
    {
     "name": "stdout",
     "output_type": "stream",
     "text": [
      "19/19 - 24s - loss: 0.1760 - energy_within_threshold: 0.1350 - 24s/epoch - 1s/step\n",
      "Epoch 3/5\n"
     ]
    },
    {
     "name": "stderr",
     "output_type": "stream",
     "text": [
      "INFO:megnet_models.callbacks:val energy_within_threshold: 0.34512 mae: 0.10861\n"
     ]
    },
    {
     "name": "stdout",
     "output_type": "stream",
     "text": [
      "19/19 - 24s - loss: 0.1250 - energy_within_threshold: 0.2586 - 24s/epoch - 1s/step\n",
      "Epoch 4/5\n"
     ]
    },
    {
     "name": "stderr",
     "output_type": "stream",
     "text": [
      "INFO:megnet_models.callbacks:val energy_within_threshold: 0.35859 mae: 0.10384\n"
     ]
    },
    {
     "name": "stdout",
     "output_type": "stream",
     "text": [
      "19/19 - 24s - loss: 0.1177 - energy_within_threshold: 0.3857 - 24s/epoch - 1s/step\n",
      "Epoch 5/5\n"
     ]
    },
    {
     "name": "stderr",
     "output_type": "stream",
     "text": [
      "INFO:megnet_models.callbacks:val energy_within_threshold: 0.30135 mae: 0.10930\n"
     ]
    },
    {
     "name": "stdout",
     "output_type": "stream",
     "text": [
      "19/19 - 24s - loss: 0.1169 - energy_within_threshold: 0.3385 - 24s/epoch - 1s/step\n"
     ]
    },
    {
     "ename": "ValueError",
     "evalue": "Length of values (5) does not match length of index (10)",
     "output_type": "error",
     "traceback": [
      "\u001b[0;31m---------------------------------------------------------------------------\u001b[0m",
      "\u001b[0;31mValueError\u001b[0m                                Traceback (most recent call last)",
      "\u001b[0;32m/tmp/ipykernel_3703031/404359059.py\u001b[0m in \u001b[0;36m<module>\u001b[0;34m\u001b[0m\n\u001b[1;32m     35\u001b[0m     \u001b[0mresult_fold\u001b[0m \u001b[0;34m=\u001b[0m \u001b[0mpd\u001b[0m\u001b[0;34m.\u001b[0m\u001b[0mDataFrame\u001b[0m\u001b[0;34m(\u001b[0m\u001b[0mloadfn\u001b[0m\u001b[0;34m(\u001b[0m\u001b[0mOUTPUT_DIR\u001b[0m\u001b[0;34m/\u001b[0m\u001b[0;34mf'fold_{fold}.json'\u001b[0m\u001b[0;34m)\u001b[0m\u001b[0;34m)\u001b[0m\u001b[0;34m\u001b[0m\u001b[0;34m\u001b[0m\u001b[0m\n\u001b[1;32m     36\u001b[0m     \u001b[0mresult_fold\u001b[0m \u001b[0;34m=\u001b[0m \u001b[0mpd\u001b[0m\u001b[0;34m.\u001b[0m\u001b[0mDataFrame\u001b[0m\u001b[0;34m(\u001b[0m\u001b[0mloadfn\u001b[0m\u001b[0;34m(\u001b[0m\u001b[0mOUTPUT_DIR\u001b[0m\u001b[0;34m/\u001b[0m\u001b[0;34mf'fold_{fold}.json'\u001b[0m\u001b[0;34m)\u001b[0m\u001b[0;34m)\u001b[0m\u001b[0;34m\u001b[0m\u001b[0;34m\u001b[0m\u001b[0m\n\u001b[0;32m---> 37\u001b[0;31m     \u001b[0mresult_fold\u001b[0m\u001b[0;34m[\u001b[0m\u001b[0;34m'trn_loss'\u001b[0m\u001b[0;34m]\u001b[0m \u001b[0;34m=\u001b[0m \u001b[0mres\u001b[0m\u001b[0;34m.\u001b[0m\u001b[0mhistory\u001b[0m\u001b[0;34m.\u001b[0m\u001b[0mhistory\u001b[0m\u001b[0;34m[\u001b[0m\u001b[0;34m'loss'\u001b[0m\u001b[0;34m]\u001b[0m\u001b[0;34m\u001b[0m\u001b[0;34m\u001b[0m\u001b[0m\n\u001b[0m\u001b[1;32m     38\u001b[0m     \u001b[0mresult_fold\u001b[0m\u001b[0;34m[\u001b[0m\u001b[0;34m'trn_energy_within_threshold'\u001b[0m\u001b[0;34m]\u001b[0m \u001b[0;34m=\u001b[0m \u001b[0mres\u001b[0m\u001b[0;34m.\u001b[0m\u001b[0mhistory\u001b[0m\u001b[0;34m.\u001b[0m\u001b[0mhistory\u001b[0m\u001b[0;34m[\u001b[0m\u001b[0;34m'energy_within_threshold'\u001b[0m\u001b[0;34m]\u001b[0m\u001b[0;34m\u001b[0m\u001b[0;34m\u001b[0m\u001b[0m\n\u001b[1;32m     39\u001b[0m     result_fold[\n",
      "\u001b[0;32m~/.pyenv/versions/anaconda3-2020.02/envs/idao2022/lib/python3.8/site-packages/pandas/core/frame.py\u001b[0m in \u001b[0;36m__setitem__\u001b[0;34m(self, key, value)\u001b[0m\n\u001b[1;32m   3605\u001b[0m         \u001b[0;32melse\u001b[0m\u001b[0;34m:\u001b[0m\u001b[0;34m\u001b[0m\u001b[0;34m\u001b[0m\u001b[0m\n\u001b[1;32m   3606\u001b[0m             \u001b[0;31m# set column\u001b[0m\u001b[0;34m\u001b[0m\u001b[0;34m\u001b[0m\u001b[0;34m\u001b[0m\u001b[0m\n\u001b[0;32m-> 3607\u001b[0;31m             \u001b[0mself\u001b[0m\u001b[0;34m.\u001b[0m\u001b[0m_set_item\u001b[0m\u001b[0;34m(\u001b[0m\u001b[0mkey\u001b[0m\u001b[0;34m,\u001b[0m \u001b[0mvalue\u001b[0m\u001b[0;34m)\u001b[0m\u001b[0;34m\u001b[0m\u001b[0;34m\u001b[0m\u001b[0m\n\u001b[0m\u001b[1;32m   3608\u001b[0m \u001b[0;34m\u001b[0m\u001b[0m\n\u001b[1;32m   3609\u001b[0m     \u001b[0;32mdef\u001b[0m \u001b[0m_setitem_slice\u001b[0m\u001b[0;34m(\u001b[0m\u001b[0mself\u001b[0m\u001b[0;34m,\u001b[0m \u001b[0mkey\u001b[0m\u001b[0;34m:\u001b[0m \u001b[0mslice\u001b[0m\u001b[0;34m,\u001b[0m \u001b[0mvalue\u001b[0m\u001b[0;34m)\u001b[0m\u001b[0;34m:\u001b[0m\u001b[0;34m\u001b[0m\u001b[0;34m\u001b[0m\u001b[0m\n",
      "\u001b[0;32m~/.pyenv/versions/anaconda3-2020.02/envs/idao2022/lib/python3.8/site-packages/pandas/core/frame.py\u001b[0m in \u001b[0;36m_set_item\u001b[0;34m(self, key, value)\u001b[0m\n\u001b[1;32m   3777\u001b[0m         \u001b[0mensure\u001b[0m \u001b[0mhomogeneity\u001b[0m\u001b[0;34m.\u001b[0m\u001b[0;34m\u001b[0m\u001b[0;34m\u001b[0m\u001b[0m\n\u001b[1;32m   3778\u001b[0m         \"\"\"\n\u001b[0;32m-> 3779\u001b[0;31m         \u001b[0mvalue\u001b[0m \u001b[0;34m=\u001b[0m \u001b[0mself\u001b[0m\u001b[0;34m.\u001b[0m\u001b[0m_sanitize_column\u001b[0m\u001b[0;34m(\u001b[0m\u001b[0mvalue\u001b[0m\u001b[0;34m)\u001b[0m\u001b[0;34m\u001b[0m\u001b[0;34m\u001b[0m\u001b[0m\n\u001b[0m\u001b[1;32m   3780\u001b[0m \u001b[0;34m\u001b[0m\u001b[0m\n\u001b[1;32m   3781\u001b[0m         if (\n",
      "\u001b[0;32m~/.pyenv/versions/anaconda3-2020.02/envs/idao2022/lib/python3.8/site-packages/pandas/core/frame.py\u001b[0m in \u001b[0;36m_sanitize_column\u001b[0;34m(self, value)\u001b[0m\n\u001b[1;32m   4502\u001b[0m \u001b[0;34m\u001b[0m\u001b[0m\n\u001b[1;32m   4503\u001b[0m         \u001b[0;32mif\u001b[0m \u001b[0mis_list_like\u001b[0m\u001b[0;34m(\u001b[0m\u001b[0mvalue\u001b[0m\u001b[0;34m)\u001b[0m\u001b[0;34m:\u001b[0m\u001b[0;34m\u001b[0m\u001b[0;34m\u001b[0m\u001b[0m\n\u001b[0;32m-> 4504\u001b[0;31m             \u001b[0mcom\u001b[0m\u001b[0;34m.\u001b[0m\u001b[0mrequire_length_match\u001b[0m\u001b[0;34m(\u001b[0m\u001b[0mvalue\u001b[0m\u001b[0;34m,\u001b[0m \u001b[0mself\u001b[0m\u001b[0;34m.\u001b[0m\u001b[0mindex\u001b[0m\u001b[0;34m)\u001b[0m\u001b[0;34m\u001b[0m\u001b[0;34m\u001b[0m\u001b[0m\n\u001b[0m\u001b[1;32m   4505\u001b[0m         \u001b[0;32mreturn\u001b[0m \u001b[0msanitize_array\u001b[0m\u001b[0;34m(\u001b[0m\u001b[0mvalue\u001b[0m\u001b[0;34m,\u001b[0m \u001b[0mself\u001b[0m\u001b[0;34m.\u001b[0m\u001b[0mindex\u001b[0m\u001b[0;34m,\u001b[0m \u001b[0mcopy\u001b[0m\u001b[0;34m=\u001b[0m\u001b[0;32mTrue\u001b[0m\u001b[0;34m,\u001b[0m \u001b[0mallow_2d\u001b[0m\u001b[0;34m=\u001b[0m\u001b[0;32mTrue\u001b[0m\u001b[0;34m)\u001b[0m\u001b[0;34m\u001b[0m\u001b[0;34m\u001b[0m\u001b[0m\n\u001b[1;32m   4506\u001b[0m \u001b[0;34m\u001b[0m\u001b[0m\n",
      "\u001b[0;32m~/.pyenv/versions/anaconda3-2020.02/envs/idao2022/lib/python3.8/site-packages/pandas/core/common.py\u001b[0m in \u001b[0;36mrequire_length_match\u001b[0;34m(data, index)\u001b[0m\n\u001b[1;32m    525\u001b[0m     \"\"\"\n\u001b[1;32m    526\u001b[0m     \u001b[0;32mif\u001b[0m \u001b[0mlen\u001b[0m\u001b[0;34m(\u001b[0m\u001b[0mdata\u001b[0m\u001b[0;34m)\u001b[0m \u001b[0;34m!=\u001b[0m \u001b[0mlen\u001b[0m\u001b[0;34m(\u001b[0m\u001b[0mindex\u001b[0m\u001b[0;34m)\u001b[0m\u001b[0;34m:\u001b[0m\u001b[0;34m\u001b[0m\u001b[0;34m\u001b[0m\u001b[0m\n\u001b[0;32m--> 527\u001b[0;31m         raise ValueError(\n\u001b[0m\u001b[1;32m    528\u001b[0m             \u001b[0;34m\"Length of values \"\u001b[0m\u001b[0;34m\u001b[0m\u001b[0;34m\u001b[0m\u001b[0m\n\u001b[1;32m    529\u001b[0m             \u001b[0;34mf\"({len(data)}) \"\u001b[0m\u001b[0;34m\u001b[0m\u001b[0;34m\u001b[0m\u001b[0m\n",
      "\u001b[0;31mValueError\u001b[0m: Length of values (5) does not match length of index (10)"
     ]
    }
   ],
   "source": [
    "results = []\n",
    "test_ids = [ p.stem for p in (INPUT_DIR/'dichalcogenides_private/structures/').glob('*.json') ]\n",
    "test_structures = [ cache.loc[cache['id'] == _id, 'structure'].values[0] for _id in test_ids ]\n",
    "test_predictions = pd.DataFrame.from_dict({'id': test_ids}, orient='columns')\n",
    "for fold, (train_idx, valid_idx) in enumerate(fold_iter):\n",
    "\n",
    "    train_fold, valid_fold = train.iloc[train_idx], train.iloc[valid_idx]\n",
    "    train_fold = train_fold.merge(cache, left_on='_id', right_on='id', how='left')\n",
    "    valid_fold = valid_fold.merge(cache, left_on='_id', right_on='id', how='left')\n",
    "    \n",
    "    # model = MEGNetModel.from_file('data/band_gap_regression.hdf5')\n",
    "    model = MEGNetModel(\n",
    "        graph_converter=CrystalGraph(cutoff=CUTOFF),\n",
    "        centers=GAUSS_CENTER,\n",
    "        width=GAUSS_WIDTH,\n",
    "        loss=\"mae\",\n",
    "        npass=2,\n",
    "        lr=LR,\n",
    "        metrics=energy_within_threshold, \n",
    "        metrics_mode='max'\n",
    "    )\n",
    "    model.load_weights('data/band_gap_regression.hdf5')\n",
    "    res = model.train(\n",
    "        train_fold['structure'],\n",
    "        train_fold['band_gap'],\n",
    "        validation_structures=valid_fold['structure'],\n",
    "        validation_targets=valid_fold['band_gap'],\n",
    "        epochs=MAX_EPOCHS,\n",
    "        batch_size=BATCH_SIZE,\n",
    "        dirname=str(OUTPUT_DIR),\n",
    "        filename=f'fold_{fold}',\n",
    "        verbose=2,\n",
    "    )\n",
    "\n",
    "    result_fold = pd.DataFrame(loadfn(OUTPUT_DIR/f'fold_{fold}.json'))\n",
    "    result_fold = pd.DataFrame(loadfn(OUTPUT_DIR/f'fold_{fold}.json'))\n",
    "    result_fold['trn_loss'] = res.history.history['loss']\n",
    "    result_fold['trn_energy_within_threshold'] = res.history.history['energy_within_threshold']\n",
    "    result_fold[\n",
    "        ['epoch', 'best_epoch', \n",
    "        'trn_loss', 'trn_energy_within_threshold', \n",
    "        'val_mae', 'val_energy_within_threshold', 'best_energy_within_threshold']].to_csv(OUTPUT_DIR/f'fold_{fold}.csv', float_format=\"%10.5f\", index=False)\n",
    "    results.append(result_fold.iloc[-1])\n",
    "\n",
    "    model.load_weights(str(OUTPUT_DIR/f'fold_{fold}.hdf5'))\n",
    "    test_predictions[f'fold_{fold}'] = model.predict_structures(test_structures)\n",
    "    break\n",
    "\n",
    "# results = pd.concat(results, axis=1)\n",
    "# results.columns = np.arange(CV)\n",
    "# results.to_csv(OUTPUT_DIR/'summary.csv', float_format=\"%10.5f\")\n",
    "\n",
    "# test_predictions['predictions'] = test_predictions[[ f'fold_{i}' for i in range(CV) ]].mean(1)\n",
    "# test_predictions[['id', 'predictions']].to_csv(OUTPUT_DIR/'submission.csv', index=False)"
   ]
  },
  {
   "cell_type": "code",
   "execution_count": 11,
   "metadata": {},
   "outputs": [
    {
     "data": {
      "text/plain": [
       "<megnet_models.megnet.MEGNetModel at 0x7f83a5aa5b20>"
      ]
     },
     "execution_count": 11,
     "metadata": {},
     "output_type": "execute_result"
    }
   ],
   "source": [
    "model"
   ]
  },
  {
   "cell_type": "code",
   "execution_count": null,
   "metadata": {},
   "outputs": [],
   "source": []
  }
 ],
 "metadata": {
  "interpreter": {
   "hash": "50fa0830593d2a8aa28b1880737c7429f5f1cdf6ab0f4d651c1ed6776b22e370"
  },
  "kernelspec": {
   "display_name": "Python 3.8.12 ('idao2022')",
   "language": "python",
   "name": "python3"
  },
  "language_info": {
   "codemirror_mode": {
    "name": "ipython",
    "version": 3
   },
   "file_extension": ".py",
   "mimetype": "text/x-python",
   "name": "python",
   "nbconvert_exporter": "python",
   "pygments_lexer": "ipython3",
   "version": "3.8.12"
  },
  "orig_nbformat": 4
 },
 "nbformat": 4,
 "nbformat_minor": 2
}
